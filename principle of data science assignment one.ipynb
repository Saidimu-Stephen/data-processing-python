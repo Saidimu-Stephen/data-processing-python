{
 "cells": [
  {
   "cell_type": "markdown",
   "id": "3bf390ef-2b34-4387-b8ee-343931b28591",
   "metadata": {},
   "source": [
    "\n",
    "# Introduction\n",
    "There are several methods that can be used to process data.<br>\n",
    "These methods include the following:\n",
    "\n",
    "    1. Data Cleaning.\n",
    "* Purpose: Handle missing values, duplicates, or inconsistent data.\n",
    "* Examples: filling missing prices with the median, removing rows with null values, or correcting typos in the brand names.\n",
    "  \n",
    "    2. Data Transformation\n",
    "* Purpose: Modify the data format for better usability.\n",
    "* Examples: converting price columns to a standard currency, encoding categorical data like car brands, or normalizing numerical features.\n",
    "  \n",
    "    3. Data Aggregation\n",
    "* Purpose: Summarize data for analysis.\n",
    "* Examples: Grouping data by car brand and calculating average prices or total sales.\n",
    "  \n",
    "    4. Feature Engineering\n",
    "* Purpose: Create new meaningful features from existing data.\n",
    "* Examples: Adding a \"price per horsepower\" column or creating a binary feature like \"is_luxury_brand.\n",
    "  \n",
    "    5. Outlier Detection and Handling\n",
    "* Purpose: Identify and address data points that deviate significantly from the rest.\n",
    "* Examples: Removing cars with unrealistically low or high prices, such as outliers using the IQR (Interquartile Range) method.\n",
    "  \n",
    "    6. Data Filtering\n",
    "* Purpose: Select or exclude specific subsets of the data.\n",
    "* Examples: Filtering cars manufactured after 2015 or selecting only SUVs.\n",
    "  \n",
    "    7. Data Visualization\n",
    "* Purpose: Explore patterns and relationships visually.\n",
    "* Examples: Plotting the relationship between price and mileage using scatter plots or creating bar plots of average prices by brand.\n"
   ]
  },
  {
   "cell_type": "markdown",
   "id": "bc2d3a93-9a46-45bf-9941-147022430f83",
   "metadata": {},
   "source": [
    "# Step by step to process the dataset (Car price Dataset)\n",
    "## Step 1: Download the Dataset\n",
    "1. Visit an online source like Kaggle.\n",
    "2. Search for dataset of your choice. I chose Car Price dataset from kaggle\n",
    "3. Download the dataset in .csv or any supported format.\n",
    "4. Save the file to your working directory."
   ]
  },
  {
   "cell_type": "markdown",
   "id": "0bdc7582-07c1-4e18-9503-35066527d16b",
   "metadata": {},
   "source": [
    "## Step 2: Load the dataset into jupyter notebook\n",
    "1. importing neccessary files "
   ]
  },
  {
   "cell_type": "code",
   "execution_count": 4,
   "id": "9d71a3c1-8bd8-490c-ba31-9bbf78e4f081",
   "metadata": {},
   "outputs": [],
   "source": [
    "import pandas as pd\n",
    "import numpy as nm\n",
    "import matplotlib.pyplot as plt\n",
    "import seaborn as sns"
   ]
  },
  {
   "cell_type": "markdown",
   "id": "4149436d-c53e-4611-bba5-4c079c943bbd",
   "metadata": {},
   "source": [
    "2. Load the dataset"
   ]
  },
  {
   "cell_type": "code",
   "execution_count": 6,
   "id": "c50ec2b6-f2b3-42c6-841d-403499b6d081",
   "metadata": {},
   "outputs": [
    {
     "data": {
      "text/html": [
       "<div>\n",
       "<style scoped>\n",
       "    .dataframe tbody tr th:only-of-type {\n",
       "        vertical-align: middle;\n",
       "    }\n",
       "\n",
       "    .dataframe tbody tr th {\n",
       "        vertical-align: top;\n",
       "    }\n",
       "\n",
       "    .dataframe thead th {\n",
       "        text-align: right;\n",
       "    }\n",
       "</style>\n",
       "<table border=\"1\" class=\"dataframe\">\n",
       "  <thead>\n",
       "    <tr style=\"text-align: right;\">\n",
       "      <th></th>\n",
       "      <th>Brand</th>\n",
       "      <th>Model</th>\n",
       "      <th>Year</th>\n",
       "      <th>Engine_Size</th>\n",
       "      <th>Fuel_Type</th>\n",
       "      <th>Transmission</th>\n",
       "      <th>Mileage</th>\n",
       "      <th>Doors</th>\n",
       "      <th>Owner_Count</th>\n",
       "      <th>Price</th>\n",
       "    </tr>\n",
       "  </thead>\n",
       "  <tbody>\n",
       "    <tr>\n",
       "      <th>0</th>\n",
       "      <td>Kia</td>\n",
       "      <td>Rio</td>\n",
       "      <td>2020</td>\n",
       "      <td>4.2</td>\n",
       "      <td>Diesel</td>\n",
       "      <td>Manual</td>\n",
       "      <td>289944</td>\n",
       "      <td>3</td>\n",
       "      <td>5</td>\n",
       "      <td>8501</td>\n",
       "    </tr>\n",
       "    <tr>\n",
       "      <th>1</th>\n",
       "      <td>Chevrolet</td>\n",
       "      <td>Malibu</td>\n",
       "      <td>2012</td>\n",
       "      <td>2.0</td>\n",
       "      <td>Hybrid</td>\n",
       "      <td>Automatic</td>\n",
       "      <td>5356</td>\n",
       "      <td>2</td>\n",
       "      <td>3</td>\n",
       "      <td>12092</td>\n",
       "    </tr>\n",
       "    <tr>\n",
       "      <th>2</th>\n",
       "      <td>Mercedes</td>\n",
       "      <td>GLA</td>\n",
       "      <td>2020</td>\n",
       "      <td>4.2</td>\n",
       "      <td>Diesel</td>\n",
       "      <td>Automatic</td>\n",
       "      <td>231440</td>\n",
       "      <td>4</td>\n",
       "      <td>2</td>\n",
       "      <td>11171</td>\n",
       "    </tr>\n",
       "    <tr>\n",
       "      <th>3</th>\n",
       "      <td>Audi</td>\n",
       "      <td>Q5</td>\n",
       "      <td>2023</td>\n",
       "      <td>2.0</td>\n",
       "      <td>Electric</td>\n",
       "      <td>Manual</td>\n",
       "      <td>160971</td>\n",
       "      <td>2</td>\n",
       "      <td>1</td>\n",
       "      <td>11780</td>\n",
       "    </tr>\n",
       "    <tr>\n",
       "      <th>4</th>\n",
       "      <td>Volkswagen</td>\n",
       "      <td>Golf</td>\n",
       "      <td>2003</td>\n",
       "      <td>2.6</td>\n",
       "      <td>Hybrid</td>\n",
       "      <td>Semi-Automatic</td>\n",
       "      <td>286618</td>\n",
       "      <td>3</td>\n",
       "      <td>3</td>\n",
       "      <td>2867</td>\n",
       "    </tr>\n",
       "  </tbody>\n",
       "</table>\n",
       "</div>"
      ],
      "text/plain": [
       "        Brand   Model  Year  Engine_Size Fuel_Type    Transmission  Mileage  \\\n",
       "0         Kia     Rio  2020          4.2    Diesel          Manual   289944   \n",
       "1   Chevrolet  Malibu  2012          2.0    Hybrid       Automatic     5356   \n",
       "2    Mercedes     GLA  2020          4.2    Diesel       Automatic   231440   \n",
       "3        Audi      Q5  2023          2.0  Electric          Manual   160971   \n",
       "4  Volkswagen    Golf  2003          2.6    Hybrid  Semi-Automatic   286618   \n",
       "\n",
       "   Doors  Owner_Count  Price  \n",
       "0      3            5   8501  \n",
       "1      2            3  12092  \n",
       "2      4            2  11171  \n",
       "3      2            1  11780  \n",
       "4      3            3   2867  "
      ]
     },
     "execution_count": 6,
     "metadata": {},
     "output_type": "execute_result"
    }
   ],
   "source": [
    "# Reade the data from the stored directory\n",
    "data=pd.read_csv(\"/home/compess/Desktop/Principle of Data science/carpricedatset.zip\")\n",
    "# Methode to diaplay the first 5 rows\n",
    "data.head() "
   ]
  },
  {
   "cell_type": "markdown",
   "id": "8b72d212-d369-4b01-97c7-7700665ec2eb",
   "metadata": {},
   "source": [
    "## Step 3: Data Cleaning\n",
    "* Objective: Handle missing or duplicate data.\n",
    "1. Checking for missing values"
   ]
  },
  {
   "cell_type": "code",
   "execution_count": 8,
   "id": "05f4b725-b7ca-432d-aecb-b5df320539a2",
   "metadata": {},
   "outputs": [
    {
     "data": {
      "text/plain": [
       "Brand           0\n",
       "Model           0\n",
       "Year            0\n",
       "Engine_Size     0\n",
       "Fuel_Type       0\n",
       "Transmission    0\n",
       "Mileage         0\n",
       "Doors           0\n",
       "Owner_Count     0\n",
       "Price           0\n",
       "dtype: int64"
      ]
     },
     "execution_count": 8,
     "metadata": {},
     "output_type": "execute_result"
    }
   ],
   "source": [
    "# Function to count all the missing values\n",
    "data.isnull().sum()"
   ]
  },
  {
   "cell_type": "markdown",
   "id": "39b4cfe4-45f5-43ca-900c-dc319981567b",
   "metadata": {},
   "source": [
    "2. Handle missing values\n",
    "    This involves filling or dropping columns with missing values. <br>\n",
    "    Since all columns have 0 missing values, it mean there are no missing values, so will skip this part.\n",
    "   the method used to handle missing givien an example of price is as the one <br> data['price'].fillna(data['price'].median(), inplace=True)  # Fill missing prices with the median\n"
   ]
  },
  {
   "cell_type": "markdown",
   "id": "14fe634a-01b3-492b-b592-0acc09547b3d",
   "metadata": {},
   "source": [
    "3. Handling duplicate values"
   ]
  },
  {
   "cell_type": "code",
   "execution_count": 11,
   "id": "8b46850e-0541-4894-920f-6e99b309e2da",
   "metadata": {},
   "outputs": [
    {
     "name": "stdout",
     "output_type": "stream",
     "text": [
      "0       False\n",
      "1       False\n",
      "2       False\n",
      "3       False\n",
      "4       False\n",
      "        ...  \n",
      "9995    False\n",
      "9996    False\n",
      "9997    False\n",
      "9998    False\n",
      "9999    False\n",
      "Length: 10000, dtype: bool\n"
     ]
    }
   ],
   "source": [
    "duplicate = data.duplicated()\n",
    "# print the result of check for duplicate\n",
    "print(duplicate)"
   ]
  },
  {
   "cell_type": "markdown",
   "id": "02e806a5-48da-4675-ab0d-bb4f02b23326",
   "metadata": {},
   "source": [
    "The return value is __false__ meaning there are no duplicate values"
   ]
  },
  {
   "cell_type": "markdown",
   "id": "63f45097-b1af-4fdf-b6b5-4e8af0210cbd",
   "metadata": {},
   "source": [
    "## Step 4: Data Transformation\n",
    "__Objective:__ Modify data for better usability.\n",
    "    Convert categorical data (e.g., \"brand\") into numerical form:"
   ]
  },
  {
   "cell_type": "markdown",
   "id": "943cae0e-228a-4ec3-ace3-a6261b9d167d",
   "metadata": {},
   "source": [
    "1. To convert the categorical data (e.g., \"Brand\", \"Fuel_Type\", \"Transmission\") into numerical form, we can use encoding techniques such as Label Encoding or One-Hot Encoding. Here's how to handle it step-by-step:\n",
    "\n",
    "        1. Label Encoding:\n",
    "            Use LabelEncoder to convert categories into numerical labels (useful for ordinal or a single column of categories)."
   ]
  },
  {
   "cell_type": "code",
   "execution_count": 15,
   "id": "a9e7e041-0b23-451c-9d3e-27a71756de45",
   "metadata": {},
   "outputs": [
    {
     "name": "stdout",
     "output_type": "stream",
     "text": [
      "      Brand     Model  Year  Engine_Size  Fuel_Type  Transmission  Mileage  \\\n",
      "0         6       Rio  2020          4.2          0             1   289944   \n",
      "1         2    Malibu  2012          2.0          2             0     5356   \n",
      "2         7       GLA  2020          4.2          0             0   231440   \n",
      "3         0        Q5  2023          2.0          1             1   160971   \n",
      "4         9      Golf  2003          2.6          2             2   286618   \n",
      "...     ...       ...   ...          ...        ...           ...      ...   \n",
      "9995      6    Optima  2004          3.7          0             2     5794   \n",
      "9996      2    Impala  2002          1.4          1             0   168000   \n",
      "9997      1  3 Series  2010          3.0          3             0    86664   \n",
      "9998      3  Explorer  2002          1.4          2             0   225772   \n",
      "9999      9    Tiguan  2001          2.1          0             1   157882   \n",
      "\n",
      "      Doors  Owner_Count  Price  \n",
      "0         3            5   8501  \n",
      "1         2            3  12092  \n",
      "2         4            2  11171  \n",
      "3         2            1  11780  \n",
      "4         3            3   2867  \n",
      "...     ...          ...    ...  \n",
      "9995      2            4   8884  \n",
      "9996      2            1   6240  \n",
      "9997      5            1   9866  \n",
      "9998      4            1   4084  \n",
      "9999      3            3   3342  \n",
      "\n",
      "[10000 rows x 10 columns]\n"
     ]
    }
   ],
   "source": [
    "from sklearn.preprocessing import LabelEncoder\n",
    "# Label encoding for \"Brand\", \"Fuel_Type\", and \"Transmission\"\n",
    "label_encoder = LabelEncoder()\n",
    "data['Brand'] = label_encoder.fit_transform(data['Brand'])\n",
    "data['Fuel_Type'] = label_encoder.fit_transform(data['Fuel_Type'])\n",
    "data['Transmission'] = label_encoder.fit_transform(data['Transmission'])\n",
    "\n",
    "print(data)"
   ]
  },
  {
   "cell_type": "markdown",
   "id": "0db1b6a2-48cc-43bf-a7fd-4e689bfd7a67",
   "metadata": {},
   "source": [
    "2. Normalize numerical features <br>\n",
    "    Normalizing numerical features scales them to a smaller range, typically between 0 and 1, to improve the performance of many machine learning algorithms <br>\n",
    "    \n",
    "       Step 1: Identify Numerical Columns<br>\n",
    "            From my dataset, the numerical columns are:\n",
    "            * Year\n",
    "            * Engine_Size\n",
    "            * Mileage\n",
    "            * Doors\n",
    "            * Owner_Count\n",
    "            * Price\n",
    "     Step 2: Normalize the Data<br>\n",
    "        we can normalize numerical features using Min-Max Scaling, which transforms the values to a range between 0 and 1.\n",
    "\n",
    "  "
   ]
  },
  {
   "cell_type": "code",
   "execution_count": 17,
   "id": "57438dd5-3d47-478a-9d0e-aafb9b8ed8a2",
   "metadata": {},
   "outputs": [
    {
     "name": "stdout",
     "output_type": "stream",
     "text": [
      "Normalized Data:\n",
      "      Brand     Model      Year  Engine_Size  Fuel_Type  Transmission  \\\n",
      "0         6       Rio  0.869565        0.800          0             1   \n",
      "1         2    Malibu  0.521739        0.250          2             0   \n",
      "2         7       GLA  0.869565        0.800          0             0   \n",
      "3         0        Q5  1.000000        0.250          1             1   \n",
      "4         9      Golf  0.130435        0.400          2             2   \n",
      "...     ...       ...       ...          ...        ...           ...   \n",
      "9995      6    Optima  0.173913        0.675          0             2   \n",
      "9996      2    Impala  0.086957        0.100          1             0   \n",
      "9997      1  3 Series  0.434783        0.500          3             0   \n",
      "9998      3  Explorer  0.086957        0.100          2             0   \n",
      "9999      9    Tiguan  0.043478        0.275          0             1   \n",
      "\n",
      "       Mileage     Doors  Owner_Count     Price  \n",
      "0     0.966648  0.333333         1.00  0.398810  \n",
      "1     0.017775  0.000000         0.50  0.619103  \n",
      "2     0.771584  0.666667         0.25  0.562604  \n",
      "3     0.536626  0.000000         0.00  0.599963  \n",
      "4     0.955558  0.333333         0.50  0.053187  \n",
      "...        ...       ...          ...       ...  \n",
      "9995  0.019235  0.000000         0.75  0.422305  \n",
      "9996  0.560062  0.000000         0.00  0.260107  \n",
      "9997  0.288872  1.000000         0.00  0.482547  \n",
      "9998  0.752686  0.666667         0.00  0.127845  \n",
      "9999  0.526327  0.333333         0.50  0.082326  \n",
      "\n",
      "[10000 rows x 10 columns]\n"
     ]
    }
   ],
   "source": [
    "from sklearn.preprocessing import MinMaxScaler\n",
    "\n",
    "# Select numerical columns\n",
    "numerical_cols = ['Year', 'Engine_Size', 'Mileage', 'Doors', 'Owner_Count', 'Price']\n",
    "\n",
    "# Initialize Min-Max Scaler\n",
    "scaler = MinMaxScaler()\n",
    "\n",
    "# Apply Min-Max Scaling\n",
    "data[numerical_cols] = scaler.fit_transform(data[numerical_cols])\n",
    "\n",
    "print(\"Normalized Data:\")\n",
    "data.to_csv('normalized_data.csv', index=False)\n",
    "\n",
    "print(data)"
   ]
  },
  {
   "cell_type": "markdown",
   "id": "e3ebbf65-fc2c-4c6b-9bda-7ca35f980f38",
   "metadata": {},
   "source": [
    " Alternative: Use Standardization\n",
    "\n",
    "   \n",
    "If we want to normalize to a standard normal distribution (mean = 0, std = 1), we can use StandardScaler instead of MinMaxScaler\n"
   ]
  },
  {
   "cell_type": "markdown",
   "id": "ff8d90aa-d34a-40c8-8df0-ea954bfae5e7",
   "metadata": {},
   "source": [
    "\n",
    "from sklearn.preprocessing import StandardScaler\n",
    "\n",
    "scaler = StandardScaler()\n",
    "data[numerical_cols] = scaler.fit_transform(data[numerical_cols])\n",
    "print (data)\n"
   ]
  },
  {
   "cell_type": "markdown",
   "id": "db0cd57a-9149-4723-94fe-19b11757373d",
   "metadata": {},
   "source": [
    "## Step 5: Outlier Detection and Handling\n",
    "Outlier detection and handling is crucial for improving model performance and ensuring data quality.\n",
    "\n",
    "    Outlier detection and handling is crucial for improving model performance and ensuring data quality. \n",
    "    \n",
    "    Here's a step-by-step approach to detect and handle outliers in your dataset:\n",
    "\n",
    "### Step 1: Identify Outliers\n",
    "#### 1.1.Using Summary Statistics\n",
    "                Use the Interquartile Range (IQR) method to detect outliers:\n",
    "\n",
    "Calculate Q1 (25th percentile) and Q3 (75th percentile).\n",
    "Compute the IQR: IQR = Q3 - Q1.\n",
    "Define lower and upper bounds:\n",
    "\n",
    "Lower Bound = 𝑄1−1.5⋅IQR\n",
    "\n",
    "Lower Bound = Q1 − 1.5 ⋅ IQR\n"
   ]
  },
  {
   "cell_type": "code",
   "execution_count": 21,
   "id": "e9013083-30d9-4ca8-935b-086b93134334",
   "metadata": {},
   "outputs": [
    {
     "name": "stdout",
     "output_type": "stream",
     "text": [
      "Outliers detected:\n",
      "      Brand   Year  Engine_Size  Fuel_Type  Transmission  Mileage  Doors  \\\n",
      "0     False  False        False      False         False    False  False   \n",
      "1     False  False        False      False         False    False  False   \n",
      "2     False  False        False      False         False    False  False   \n",
      "3     False  False        False      False         False    False  False   \n",
      "4     False  False        False      False         False    False  False   \n",
      "...     ...    ...          ...        ...           ...      ...    ...   \n",
      "9995  False  False        False      False         False    False  False   \n",
      "9996  False  False        False      False         False    False  False   \n",
      "9997  False  False        False      False         False    False  False   \n",
      "9998  False  False        False      False         False    False  False   \n",
      "9999  False  False        False      False         False    False  False   \n",
      "\n",
      "      Owner_Count  Price  \n",
      "0           False  False  \n",
      "1           False  False  \n",
      "2           False  False  \n",
      "3           False  False  \n",
      "4           False  False  \n",
      "...           ...    ...  \n",
      "9995        False  False  \n",
      "9996        False  False  \n",
      "9997        False  False  \n",
      "9998        False  False  \n",
      "9999        False  False  \n",
      "\n",
      "[10000 rows x 9 columns]\n"
     ]
    }
   ],
   "source": [
    "# Select only numerical columns\n",
    "numerical_columns = data.select_dtypes(include=['number'])\n",
    "\n",
    "# Detect outliers using IQR\n",
    "Q1 = numerical_columns.quantile(0.25)\n",
    "Q3 = numerical_columns.quantile(0.75)\n",
    "IQR = Q3 - Q1\n",
    "\n",
    "# Define outlier bounds\n",
    "lower_bound = Q1 - 1.5 * IQR\n",
    "upper_bound = Q3 + 1.5 * IQR\n",
    "\n",
    "# Find outliers\n",
    "outliers = (numerical_columns < lower_bound) | (numerical_columns > upper_bound)\n",
    "print(\"Outliers detected:\")\n",
    "print(outliers)\n"
   ]
  },
  {
   "cell_type": "markdown",
   "id": "c6e69a60-2e4e-4661-a6f0-d95782152620",
   "metadata": {},
   "source": [
    "            1.2. Using Visualization\n",
    "                Visualize the data to detect outliers:\n",
    "\n",
    "                Boxplot: Highlights values outside the whiskers as outliers.\n",
    "                Histogram/Scatterplot: Helps identify extreme values."
   ]
  },
  {
   "cell_type": "code",
   "execution_count": 23,
   "id": "84c39524-99a6-4bb4-92d4-09d1b52fdab9",
   "metadata": {},
   "outputs": [
    {
     "data": {
      "image/png": "[encoded data removed]",
      "text/plain": [
       "<Figure size 1200x600 with 1 Axes>"
      ]
     },
     "metadata": {},
     "output_type": "display_data"
    }
   ],
   "source": [
    "import matplotlib.pyplot as plt\n",
    "import seaborn as sns\n",
    "\n",
    "# Boxplot for numerical columns\n",
    "plt.figure(figsize=(12, 6))\n",
    "sns.boxplot(data=data[['Mileage', 'Price']])\n",
    "plt.title(\"Boxplot for Outlier Detection\")\n",
    "plt.show()\n"
   ]
  },
  {
   "cell_type": "markdown",
   "id": "707e9424-417f-4b7b-a288-320015fbc4f0",
   "metadata": {},
   "source": [
    "### Step 2: Handle Outliers\n",
    "    There are several methods to handle outliers:\n",
    " #### 2.1. Remove Outliers\n",
    "        If the outliers are errors or don't contribute to the model:\n",
    "\n"
   ]
  },
  {
   "cell_type": "code",
   "execution_count": 25,
   "id": "8d5659eb-9133-4996-902f-05db4f4b06e1",
   "metadata": {},
   "outputs": [
    {
     "name": "stdout",
     "output_type": "stream",
     "text": [
      "Data after removing outliers:\n",
      "      Brand     Model      Year  Engine_Size  Fuel_Type  Transmission  \\\n",
      "0         6       Rio  0.869565        0.800          0             1   \n",
      "1         2    Malibu  0.521739        0.250          2             0   \n",
      "2         7       GLA  0.869565        0.800          0             0   \n",
      "3         0        Q5  1.000000        0.250          1             1   \n",
      "4         9      Golf  0.130435        0.400          2             2   \n",
      "...     ...       ...       ...          ...        ...           ...   \n",
      "9995      6    Optima  0.173913        0.675          0             2   \n",
      "9996      2    Impala  0.086957        0.100          1             0   \n",
      "9997      1  3 Series  0.434783        0.500          3             0   \n",
      "9998      3  Explorer  0.086957        0.100          2             0   \n",
      "9999      9    Tiguan  0.043478        0.275          0             1   \n",
      "\n",
      "       Mileage     Doors  Owner_Count     Price  \n",
      "0     0.966648  0.333333         1.00  0.398810  \n",
      "1     0.017775  0.000000         0.50  0.619103  \n",
      "2     0.771584  0.666667         0.25  0.562604  \n",
      "3     0.536626  0.000000         0.00  0.599963  \n",
      "4     0.955558  0.333333         0.50  0.053187  \n",
      "...        ...       ...          ...       ...  \n",
      "9995  0.019235  0.000000         0.75  0.422305  \n",
      "9996  0.560062  0.000000         0.00  0.260107  \n",
      "9997  0.288872  1.000000         0.00  0.482547  \n",
      "9998  0.752686  0.666667         0.00  0.127845  \n",
      "9999  0.526327  0.333333         0.50  0.082326  \n",
      "\n",
      "[9994 rows x 10 columns]\n"
     ]
    },
    {
     "data": {
      "image/png": "[encoded data removed]",
      "text/plain": [
       "<Figure size 640x480 with 1 Axes>"
      ]
     },
     "metadata": {},
     "output_type": "display_data"
    }
   ],
   "source": [
    "# Compute bounds for numeric columns\n",
    "numerical_columns = data.select_dtypes(include=['number'])\n",
    "Q1 = numerical_columns.quantile(0.25)\n",
    "Q3 = numerical_columns.quantile(0.75)\n",
    "IQR = Q3 - Q1\n",
    "\n",
    "lower_bound = Q1 - 1.5 * IQR\n",
    "upper_bound = Q3 + 1.5 * IQR\n",
    "\n",
    "# Find rows with outliers in numeric columns\n",
    "outliers = ((numerical_columns < lower_bound) | (numerical_columns > upper_bound))\n",
    "\n",
    "# Remove rows with outliers\n",
    "data_no_outliers = data[~outliers.any(axis=1)]\n",
    "\n",
    "# Display the result\n",
    "print(\"Data after removing outliers:\")\n",
    "print(data_no_outliers)\n",
    "\n",
    "# Visualize boxplot for numeric columns\n",
    "import seaborn as sns\n",
    "import matplotlib.pyplot as plt\n",
    "\n",
    "sns.boxplot(data=data_no_outliers[['Mileage', 'Price']])\n",
    "plt.title(\"Boxplot After Outlier Removal\")\n",
    "plt.show()\n",
    "\n",
    "\n"
   ]
  },
  {
   "cell_type": "code",
   "execution_count": 26,
   "id": "3b8ea572-8e5b-4356-97e9-157d9a1bee0a",
   "metadata": {},
   "outputs": [
    {
     "name": "stdout",
     "output_type": "stream",
     "text": [
      "Outliers detected (True indicates an outlier):\n",
      "      Brand   Year  Engine_Size  Fuel_Type  Transmission  Mileage  Doors  \\\n",
      "0     False  False        False      False         False    False  False   \n",
      "1     False  False        False      False         False    False  False   \n",
      "2     False  False        False      False         False    False  False   \n",
      "3     False  False        False      False         False    False  False   \n",
      "4     False  False        False      False         False    False  False   \n",
      "...     ...    ...          ...        ...           ...      ...    ...   \n",
      "9995  False  False        False      False         False    False  False   \n",
      "9996  False  False        False      False         False    False  False   \n",
      "9997  False  False        False      False         False    False  False   \n",
      "9998  False  False        False      False         False    False  False   \n",
      "9999  False  False        False      False         False    False  False   \n",
      "\n",
      "      Owner_Count  Price  \n",
      "0           False  False  \n",
      "1           False  False  \n",
      "2           False  False  \n",
      "3           False  False  \n",
      "4           False  False  \n",
      "...           ...    ...  \n",
      "9995        False  False  \n",
      "9996        False  False  \n",
      "9997        False  False  \n",
      "9998        False  False  \n",
      "9999        False  False  \n",
      "\n",
      "[10000 rows x 9 columns]\n"
     ]
    },
    {
     "data": {
      "image/png": "[encoded data removed]",
      "text/plain": [
       "<Figure size 1000x600 with 1 Axes>"
      ]
     },
     "metadata": {},
     "output_type": "display_data"
    },
    {
     "name": "stdout",
     "output_type": "stream",
     "text": [
      "Outliers handled successfully!\n"
     ]
    }
   ],
   "source": [
    "# Import necessary libraries\n",
    "import pandas as pd\n",
    "import matplotlib.pyplot as plt\n",
    "import seaborn as sns\n",
    "\n",
    "# Example DataFrame (replace with your actual data)\n",
    "# data = pd.read_csv('your_data.csv')\n",
    "\n",
    "# Select only numerical columns\n",
    "numerical_columns = data.select_dtypes(include=['number'])\n",
    "\n",
    "# Detect outliers using IQR\n",
    "Q1 = numerical_columns.quantile(0.25)  # First quartile\n",
    "Q3 = numerical_columns.quantile(0.75)  # Third quartile\n",
    "IQR = Q3 - Q1  # Interquartile range\n",
    "\n",
    "# Define outlier bounds\n",
    "lower_bound = Q1 - 1.5 * IQR\n",
    "upper_bound = Q3 + 1.5 * IQR\n",
    "\n",
    "# Find outliers (Boolean DataFrame indicating True for outliers)\n",
    "outliers = (numerical_columns < lower_bound) | (numerical_columns > upper_bound)\n",
    "\n",
    "# Display outliers\n",
    "print(\"Outliers detected (True indicates an outlier):\")\n",
    "print(outliers)\n",
    "\n",
    "# Optional: Visualize the outliers using a boxplot for each numeric column\n",
    "plt.figure(figsize=(10, 6))\n",
    "sns.boxplot(data=numerical_columns)\n",
    "plt.title(\"Boxplot of Numerical Columns (Outliers Visualized)\")\n",
    "plt.show()\n",
    "\n",
    "# Handle outliers (Optional)\n",
    "# You can remove the outliers or replace them with a specific value\n",
    "\n",
    "# Option 1: Remove rows with outliers\n",
    "data_no_outliers = data[~outliers.any(axis=1)]\n",
    "\n",
    "# Option 2: Cap/floor outliers to the boundaries\n",
    "data_capped = numerical_columns.apply(\n",
    "    lambda col: col.clip(lower=lower_bound[col.name], upper=upper_bound[col.name])\n",
    ")\n",
    "\n",
    "# Replace the original numerical columns with the capped data\n",
    "data[numerical_columns.columns] = data_capped\n",
    "\n",
    "print(\"Outliers handled successfully!\")\n"
   ]
  },
  {
   "cell_type": "markdown",
   "id": "1fd5a517-2026-4ee7-812e-52ed535288a7",
   "metadata": {},
   "source": [
    "# Step 6: Data Aggregation \n",
    "Data aggregation is the process of combining multiple rows of data to form a summary or group-based representation. It helps in simplifying the dataset, reducing dimensionality, and providing insights into key trends or patterns by grouping the data based on one or more features.\n",
    "\n",
    "## Common Use Cases for Data Aggregation:\n",
    "1. Summarizing data: Combine data to calculate totals, averages, or other statistical summaries.\n",
    "2. Group-based analysis: Analyze data based on categories, such as finding the average sales per product category or the total revenue per store.\n",
    "3. Time series aggregation: Aggregate data by time periods (e.g., daily, monthly, yearly).\n",
    "\n",
    "  ## Methods of Data Aggregation:\n",
    "1. GroupBy: This is the most common method in pandas. It involves grouping data by one or more columns and applying aggregation functions like sum, mean, count, etc.\n",
    "2. Pivot Tables: You can also create pivot tables to summarize and aggregate data.\n",
    "3. Resampling: Used in time-series data to change the frequency of data (e.g., resample data from daily to monthly).\n"
   ]
  },
  {
   "cell_type": "markdown",
   "id": "0eb0c024-e382-4a35-8daf-0f3407e1b026",
   "metadata": {},
   "source": [
    "### Example 1: Grouping and Aggregating Data with GroupBy\n",
    "Let’s assume we have a dataset of car sales, and we want to aggregate the data to find the total sales for each car brand."
   ]
  },
  {
   "cell_type": "code",
   "execution_count": 29,
   "id": "c3d44d1d-3fb0-4518-b0a5-d583a85f5818",
   "metadata": {},
   "outputs": [
    {
     "name": "stdout",
     "output_type": "stream",
     "text": [
      "Brand\n",
      "Chevrolet    270\n",
      "Ford         300\n",
      "Kia          300\n",
      "Name: Sales, dtype: int64\n"
     ]
    }
   ],
   "source": [
    "# This example aggregates the data by Brand and sums the sales for each brand.\n",
    "import pandas as pd\n",
    "\n",
    "# Sample data\n",
    "data = pd.DataFrame({\n",
    "    'Brand': ['Kia', 'Chevrolet', 'Kia', 'Chevrolet', 'Ford'],\n",
    "    'Model': ['Rio', 'Malibu', 'Seltos', 'Spark', 'Mustang'],\n",
    "    'Sales': [100, 150, 200, 120, 300]\n",
    "})\n",
    "\n",
    "# Group by 'Brand' and aggregate the 'Sales' using sum\n",
    "grouped_data = data.groupby('Brand')['Sales'].sum()\n",
    "\n",
    "# Display the aggregated data\n",
    "print(grouped_data)\n"
   ]
  },
  {
   "cell_type": "markdown",
   "id": "65eda302-3f80-4382-8a85-3aadb1b2d0b1",
   "metadata": {},
   "source": [
    "### Example 2: Multiple Aggregations\n",
    "You can apply multiple aggregation functions to different columns in one operation.\n"
   ]
  },
  {
   "cell_type": "code",
   "execution_count": 31,
   "id": "26e0d149-e575-4d08-9d46-733f6120d4d1",
   "metadata": {},
   "outputs": [
    {
     "name": "stdout",
     "output_type": "stream",
     "text": [
      "          Sales             Model\n",
      "            sum   mean  max count\n",
      "Brand                            \n",
      "Chevrolet   270  135.0  150     2\n",
      "Ford        300  300.0  300     1\n",
      "Kia         300  150.0  200     2\n"
     ]
    }
   ],
   "source": [
    "# Group by 'Brand' and apply multiple aggregation functions\n",
    "aggregated_data = data.groupby('Brand').agg({\n",
    "    'Sales': ['sum', 'mean', 'max'],  # Sum, Mean, Max of Sales\n",
    "    'Model': 'count'  # Count of Models per Brand\n",
    "})\n",
    "\n",
    "# Display the aggregated data\n",
    "print(aggregated_data)\n"
   ]
  },
  {
   "cell_type": "markdown",
   "id": "5703e352-ab2c-4264-8b14-47fd5b97bb0f",
   "metadata": {},
   "source": [
    "### Example 3: Time Series Data Aggregation (Resampling)\n",
    "Suppose we have sales data over several days, and we want to aggregate the data to calculate the monthly sales.\n",
    "\n"
   ]
  },
  {
   "cell_type": "code",
   "execution_count": 33,
   "id": "b197a491-4cd1-4e42-8ee4-a82473ec6146",
   "metadata": {},
   "outputs": [
    {
     "name": "stdout",
     "output_type": "stream",
     "text": [
      "            Sales\n",
      "Date             \n",
      "2024-01-31    450\n",
      "2024-02-29    550\n"
     ]
    }
   ],
   "source": [
    "# Sample time series data\n",
    "data_time = pd.DataFrame({\n",
    "    'Date': pd.to_datetime(['2024-01-01', '2024-01-02', '2024-01-03', '2024-02-01', '2024-02-02']),\n",
    "    'Sales': [100, 150, 200, 300, 250]\n",
    "})\n",
    "\n",
    "# Set 'Date' as the index\n",
    "data_time.set_index('Date', inplace=True)\n",
    "\n",
    "# Resample the data by month and sum the sales\n",
    "monthly_sales = data_time.resample('ME').sum()\n",
    "\n",
    "# Display the aggregated data\n",
    "print(monthly_sales)\n"
   ]
  },
  {
   "cell_type": "markdown",
   "id": "7700ee76-ca23-4006-91e5-aff02142050e",
   "metadata": {},
   "source": [
    "# Step 7: Data Visualization\n",
    "Data visualization is a key part of data analysis, as it allows you to better understand patterns, trends, and distributions in your data. Visualizing the data can help communicate insights more effectively. Common types of plots include bar charts, histograms, scatter plots, line graphs, heatmaps, and more.\n",
    "\n",
    "In this section, we will explore how to visualize data in Python using Matplotlib and Seaborn libraries."
   ]
  },
  {
   "cell_type": "markdown",
   "id": "c19dbdc5-feeb-4d00-9619-1cf7e45c380c",
   "metadata": {},
   "source": [
    "1. Importing Libraries\n",
    "First, ensure you have the required libraries installed and import them."
   ]
  },
  {
   "cell_type": "code",
   "execution_count": 36,
   "id": "e21b5601-22a6-46d6-84f7-f95c3e4951f3",
   "metadata": {},
   "outputs": [],
   "source": [
    "import pandas as pd\n",
    "import matplotlib.pyplot as plt\n",
    "import seaborn as sns\n"
   ]
  },
  {
   "cell_type": "markdown",
   "id": "314d7bcf-429f-44a3-8ee2-569cabe5e95a",
   "metadata": {},
   "source": [
    "2. Plotting Basics with Matplotlib\n",
    "   \n",
    "Example 1: Simple Line Plot\n",
    "A line plot is often used for displaying continuous data, especially for time series."
   ]
  },
  {
   "cell_type": "code",
   "execution_count": 38,
   "id": "5e200d15-4c68-4b14-9e2f-b483d85678ff",
   "metadata": {},
   "outputs": [
    {
     "data": {
      "image/png": "[encoded data removed]",
      "text/plain": [
       "<Figure size 640x480 with 1 Axes>"
      ]
     },
     "metadata": {},
     "output_type": "display_data"
    }
   ],
   "source": [
    "# Sample data\n",
    "data = pd.DataFrame({\n",
    "    'Month': ['Jan', 'Feb', 'Mar', 'Apr', 'May', 'Jun'],\n",
    "    'Sales': [100, 150, 200, 250, 300, 350]\n",
    "})\n",
    "\n",
    "# Create a line plot\n",
    "plt.plot(data['Month'], data['Sales'], marker='o', color='b')\n",
    "plt.title('Sales Over Time')\n",
    "plt.xlabel('Month')\n",
    "plt.ylabel('Sales')\n",
    "plt.grid(True)\n",
    "plt.show()\n"
   ]
  },
  {
   "cell_type": "markdown",
   "id": "f0899cd7-f343-4de4-8a9a-f47bc81ad112",
   "metadata": {},
   "source": [
    "Example 2: Bar Chart\n",
    "\n",
    "A bar chart is used to compare quantities for different categories. It is ideal for categorical data."
   ]
  },
  {
   "cell_type": "code",
   "execution_count": 40,
   "id": "541d2e39-c6fa-4c4b-8d89-a7e3fa6f84d1",
   "metadata": {},
   "outputs": [
    {
     "data": {
      "image/png": "[encoded data removed]",
      "text/plain": [
       "<Figure size 640x480 with 1 Axes>"
      ]
     },
     "metadata": {},
     "output_type": "display_data"
    }
   ],
   "source": [
    "# Sample data\n",
    "brands = ['Kia', 'Chevrolet', 'Ford', 'Audi', 'Mercedes']\n",
    "sales = [150, 200, 250, 300, 350]\n",
    "\n",
    "# Create a bar chart\n",
    "plt.bar(brands, sales, color='skyblue')\n",
    "plt.title('Car Sales by Brand')\n",
    "plt.xlabel('Brand')\n",
    "plt.ylabel('Sales')\n",
    "plt.show()\n"
   ]
  },
  {
   "cell_type": "markdown",
   "id": "ba44e224-3fce-4cd7-af04-ddfa3b65911b",
   "metadata": {},
   "source": [
    "3. Visualizing Distributions\n",
    "\n",
    "Example 3: Histogram\n",
    "A histogram shows the frequency distribution of a numeric variable. It is useful for understanding the distribution of a dataset.\n",
    "\n"
   ]
  },
  {
   "cell_type": "code",
   "execution_count": 42,
   "id": "61fe7ed4-3f70-4295-996f-2f0887f03f07",
   "metadata": {},
   "outputs": [
    {
     "data": {
      "image/png": "[encoded data removed]",
      "text/plain": [
       "<Figure size 640x480 with 1 Axes>"
      ]
     },
     "metadata": {},
     "output_type": "display_data"
    }
   ],
   "source": [
    "# Sample data\n",
    "data = pd.DataFrame({\n",
    "    'Mileage': [25000, 30000, 35000, 40000, 45000, 50000, 55000, 60000, 65000, 70000]\n",
    "})\n",
    "\n",
    "# Create a histogram\n",
    "plt.hist(data['Mileage'], bins=5, color='purple', edgecolor='black')\n",
    "plt.title('Car Mileage Distribution')\n",
    "plt.xlabel('Mileage')\n",
    "plt.ylabel('Frequency')\n",
    "plt.show()\n"
   ]
  },
  {
   "cell_type": "markdown",
   "id": "53e4698f-9430-4154-b9c7-34e1721b485d",
   "metadata": {},
   "source": [
    "4. Visualizing Relationships Between Variables\n",
    "   \n",
    "Example 4: Scatter Plot\n",
    "A scatter plot is useful for identifying relationships or correlations between two numeric variables."
   ]
  },
  {
   "cell_type": "code",
   "execution_count": 44,
   "id": "cf788a37-4b65-4bb0-becc-ebb3cbe668e1",
   "metadata": {},
   "outputs": [
    {
     "data": {
      "image/png": "[encoded data removed]",
      "text/plain": [
       "<Figure size 640x480 with 1 Axes>"
      ]
     },
     "metadata": {},
     "output_type": "display_data"
    }
   ],
   "source": [
    "# Sample data\n",
    "data = pd.DataFrame({\n",
    "    'Mileage': [25000, 30000, 35000, 40000, 45000, 50000, 55000, 60000, 65000, 70000],\n",
    "    'Price': [8500, 12000, 13500, 14000, 12500, 15500, 16000, 16500, 17000, 18000]\n",
    "})\n",
    "\n",
    "# Create a scatter plot\n",
    "plt.scatter(data['Mileage'], data['Price'], color='red')\n",
    "plt.title('Car Price vs Mileage')\n",
    "plt.xlabel('Mileage')\n",
    "plt.ylabel('Price')\n",
    "plt.show()\n"
   ]
  },
  {
   "cell_type": "markdown",
   "id": "f950e5ce-6e9b-4622-9bb0-c02dd995d543",
   "metadata": {},
   "source": [
    "5. Using Seaborn for Advanced Visualizations\n",
    "\n",
    "Seaborn is a powerful visualization library built on top of Matplotlib. It simplifies the creation of more complex and informative plots.\n",
    "\n",
    "Example 5: Box Plot\n",
    "A box plot provides a summary of a dataset by displaying its distribution based on five summary statistics (minimum, first quartile, median, third quartile, and maximum).\n"
   ]
  },
  {
   "cell_type": "code",
   "execution_count": 46,
   "id": "e225d15e-3875-4da2-8535-45d801fd855c",
   "metadata": {},
   "outputs": [
    {
     "data": {
      "image/png": "[encoded data removed]",
      "text/plain": [
       "<Figure size 640x480 with 1 Axes>"
      ]
     },
     "metadata": {},
     "output_type": "display_data"
    }
   ],
   "source": [
    "# Sample data\n",
    "data = pd.DataFrame({\n",
    "    'Brand': ['Kia', 'Chevrolet', 'Ford', 'Audi', 'Mercedes'],\n",
    "    'Price': [8500, 12000, 14000, 16000, 18000]\n",
    "})\n",
    "\n",
    "# Create a box plot\n",
    "sns.boxplot(x='Brand', y='Price', data=data)\n",
    "plt.title('Car Price by Brand')\n",
    "plt.show()\n"
   ]
  },
  {
   "cell_type": "markdown",
   "id": "c4b93196-2ce7-4489-bba3-228fead3caf0",
   "metadata": {},
   "source": [
    "Example 6: Heatmap\n",
    "\n",
    "A heatmap is used to display the correlation matrix or visualize data in a matrix format, with colors representing values."
   ]
  },
  {
   "cell_type": "code",
   "execution_count": 48,
   "id": "75570820-8530-4272-b95c-764275b9b39a",
   "metadata": {},
   "outputs": [
    {
     "data": {
      "image/png": "[encoded data removed]",
      "text/plain": [
       "<Figure size 640x480 with 2 Axes>"
      ]
     },
     "metadata": {},
     "output_type": "display_data"
    }
   ],
   "source": [
    "# Sample data\n",
    "data = pd.DataFrame({\n",
    "    'Mileage': [25000, 30000, 35000, 40000, 45000],\n",
    "    'Price': [8500, 12000, 13500, 14000, 12500],\n",
    "    'Year': [2020, 2021, 2020, 2022, 2021]\n",
    "})\n",
    "\n",
    "# Compute correlation matrix\n",
    "corr_matrix = data.corr()\n",
    "\n",
    "# Create a heatmap\n",
    "sns.heatmap(corr_matrix, annot=True, cmap='coolwarm', fmt='.2f')\n",
    "plt.title('Correlation Matrix')\n",
    "plt.show()\n"
   ]
  },
  {
   "cell_type": "markdown",
   "id": "3c3250d1-f4dc-4c30-bce1-f737e4ce5d19",
   "metadata": {},
   "source": [
    "# Step 8: Feature Engineering\n",
    "Feature Engineering is the process of transforming raw data into features that better represent the underlying patterns in the data for predictive models. It plays a crucial role in improving model performance by helping the model learn better from the data.\n",
    "\n",
    "In this step, we will explore various techniques of feature engineering, such as creating new features, encoding categorical variables, and scaling numerical features.\n",
    "\n"
   ]
  },
  {
   "cell_type": "markdown",
   "id": "d06dbc2a-3530-4bd8-819a-bea8a1c5c7af",
   "metadata": {},
   "source": [
    "## 1. Creating New Features\n",
    "Sometimes, combining or transforming existing features can create new, more informative ones.\n",
    "\n",
    "### Example 1: Extracting Date Features\n",
    "If your dataset includes date information, you can extract useful features like the year, month, day, etc."
   ]
  },
  {
   "cell_type": "code",
   "execution_count": 51,
   "id": "641522fc-94e7-4958-9e99-848eff3b4227",
   "metadata": {},
   "outputs": [
    {
     "name": "stdout",
     "output_type": "stream",
     "text": [
      "        Date  Year  Month  Day  Weekday\n",
      "0 2020-01-01  2020      1    1        2\n",
      "1 2021-02-15  2021      2   15        0\n",
      "2 2022-03-30  2022      3   30        2\n"
     ]
    }
   ],
   "source": [
    "# Sample data with a 'date' column\n",
    "data = pd.DataFrame({\n",
    "    'Date': ['2020-01-01', '2021-02-15', '2022-03-30']\n",
    "})\n",
    "\n",
    "# Convert 'Date' to datetime format\n",
    "data['Date'] = pd.to_datetime(data['Date'])\n",
    "\n",
    "# Extract new features\n",
    "data['Year'] = data['Date'].dt.year\n",
    "data['Month'] = data['Date'].dt.month\n",
    "data['Day'] = data['Date'].dt.day\n",
    "data['Weekday'] = data['Date'].dt.weekday\n",
    "\n",
    "print(data)\n"
   ]
  },
  {
   "cell_type": "markdown",
   "id": "f8d9a214-9b65-496a-b7e9-e55c05030967",
   "metadata": {},
   "source": [
    "### Example 2: Creating Interaction Features\n",
    "Sometimes, you may want to create new features that capture the interaction between existing features."
   ]
  },
  {
   "cell_type": "code",
   "execution_count": 53,
   "id": "e4748e3b-5d97-4c31-b317-d941ee3e409c",
   "metadata": {},
   "outputs": [
    {
     "name": "stdout",
     "output_type": "stream",
     "text": [
      "   Mileage  Year  Mileage_per_Year\n",
      "0    25000  2020      8.333333e+03\n",
      "1    30000  2021      1.500000e+04\n",
      "2    35000  2022      3.500000e+04\n",
      "3    40000  2023               inf\n"
     ]
    }
   ],
   "source": [
    "# Sample data\n",
    "data = pd.DataFrame({\n",
    "    'Mileage': [25000, 30000, 35000, 40000],\n",
    "    'Year': [2020, 2021, 2022, 2023],\n",
    "})\n",
    "\n",
    "# Create a new feature that combines 'Mileage' and 'Year'\n",
    "data['Mileage_per_Year'] = data['Mileage'] / (2023 - data['Year'])\n",
    "print(data)\n",
    "# In this example, we created a feature Mileage_per_Year by dividing \n",
    "#the Mileage by the number of years from the car's manufacture year to the current year."
   ]
  },
  {
   "cell_type": "code",
   "execution_count": 5,
   "id": "2b8e0be6-873a-4907-9108-72502c42dc21",
   "metadata": {},
   "outputs": [
    {
     "name": "stdout",
     "output_type": "stream",
     "text": [
      "           Brand     Model  Year  Engine_Size Fuel_Type    Transmission  \\\n",
      "0            Kia       Rio  2020          4.2    Diesel          Manual   \n",
      "1      Chevrolet    Malibu  2012          2.0    Hybrid       Automatic   \n",
      "2       Mercedes       GLA  2020          4.2    Diesel       Automatic   \n",
      "3           Audi        Q5  2023          2.0  Electric          Manual   \n",
      "4     Volkswagen      Golf  2003          2.6    Hybrid  Semi-Automatic   \n",
      "...          ...       ...   ...          ...       ...             ...   \n",
      "9995         Kia    Optima  2004          3.7    Diesel  Semi-Automatic   \n",
      "9996   Chevrolet    Impala  2002          1.4  Electric       Automatic   \n",
      "9997         BMW  3 Series  2010          3.0    Petrol       Automatic   \n",
      "9998        Ford  Explorer  2002          1.4    Hybrid       Automatic   \n",
      "9999  Volkswagen    Tiguan  2001          2.1    Diesel          Manual   \n",
      "\n",
      "      Mileage  Doors  Owner_Count  Price  \n",
      "0      289944      3            5   8501  \n",
      "1        5356      2            3  12092  \n",
      "2      231440      4            2  11171  \n",
      "3      160971      2            1  11780  \n",
      "4      286618      3            3   2867  \n",
      "...       ...    ...          ...    ...  \n",
      "9995     5794      2            4   8884  \n",
      "9996   168000      2            1   6240  \n",
      "9997    86664      5            1   9866  \n",
      "9998   225772      4            1   4084  \n",
      "9999   157882      3            3   3342  \n",
      "\n",
      "[10000 rows x 10 columns]\n"
     ]
    }
   ],
   "source": [
    "# Reade the data from the stored directory\n",
    "import pandas as pd\n",
    "data=pd.read_csv(\"/home/compess/Desktop/Principle of Data science/carpricedatset.zip\")\n",
    "# Methode to diaplay the first 5 rows\n",
    "print(data) "
   ]
  },
  {
   "cell_type": "code",
   "execution_count": null,
   "id": "520eb87b-843c-4d27-aecf-7ce2a6763fc7",
   "metadata": {},
   "outputs": [],
   "source": []
  }
 ],
 "metadata": {
  "kernelspec": {
   "display_name": "Python [conda env:base] *",
   "language": "python",
   "name": "conda-base-py"
  },
  "language_info": {
   "codemirror_mode": {
    "name": "ipython",
    "version": 3
   },
   "file_extension": ".py",
   "mimetype": "text/x-python",
   "name": "python",
   "nbconvert_exporter": "python",
   "pygments_lexer": "ipython3",
   "version": "3.12.7"
  }
 },
 "nbformat": 4,
 "nbformat_minor": 5
}

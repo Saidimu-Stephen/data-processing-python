{
 "cells": [
  {
   "cell_type": "code",
   "execution_count": 2,
   "id": "8eeeb489-461b-4ffb-9d80-84d65f086d9e",
   "metadata": {},
   "outputs": [
    {
     "name": "stdout",
     "output_type": "stream",
     "text": [
      "    January 2025\n",
      "Mo Tu We Th Fr Sa Su\n",
      "       1  2  3  4  5\n",
      " 6  7  8  9 10 11 12\n",
      "13 14 15 16 17 18 19\n",
      "20 21 22 23 24 25 26\n",
      "27 28 29 30 31\n",
      "\n"
     ]
    }
   ],
   "source": [
    "import calendar\n",
    "yy =2025\n",
    "mm=1\n",
    "print (calendar.month(yy, mm))\n"
   ]
  },
  {
   "cell_type": "code",
   "execution_count": 9,
   "id": "7cc84354-4f39-4988-9a6b-0e526952741e",
   "metadata": {},
   "outputs": [],
   "source": [
    "import tkinter as tk\n",
    "from tkinter import ttk\n",
    "import calendar\n",
    "\n",
    "class CalendarApp:\n",
    "    def __init__(self, root):\n",
    "        self.root = root\n",
    "        self.root.title(\"Calendar App\")\n",
    "        self.root.geometry(\"400x300\")\n",
    "\n",
    "        # Create a label for the title\n",
    "        self.title_label = ttk.Label(root, text=\"Calendar Generator\", font=(\"Arial\", 16))\n",
    "        self.title_label.pack(pady=10)\n",
    "\n",
    "        # Create a frame for the input fields\n",
    "        self.input_frame = ttk.Frame(root)\n",
    "        self.input_frame.pack(pady=10)\n",
    "\n",
    "        # Year input\n",
    "        self.year_label = ttk.Label(self.input_frame, text=\"Year:\")\n",
    "        self.year_label.grid(row=0, column=0, padx=5)\n",
    "        self.year_entry = ttk.Entry(self.input_frame, width=10)\n",
    "        self.year_entry.grid(row=0, column=1, padx=5)\n",
    "\n",
    "        # Month input\n",
    "        self.month_label = ttk.Label(self.input_frame, text=\"Month:\")\n",
    "        self.month_label.grid(row=0, column=2, padx=5)\n",
    "        self.month_entry = ttk.Entry(self.input_frame, width=10)\n",
    "        self.month_entry.grid(row=0, column=3, padx=5)\n",
    "\n",
    "        # Generate button\n",
    "        self.generate_button = ttk.Button(root, text=\"Generate Calendar\", command=self.generate_calendar)\n",
    "        self.generate_button.pack(pady=10)\n",
    "\n",
    "        # Create a text widget to display the calendar\n",
    "        self.calendar_text = tk.Text(root, height=10, width=30, state=\"disabled\")\n",
    "        self.calendar_text.pack(pady=10)\n",
    "\n",
    "    def generate_calendar(self):\n",
    "        try:\n",
    "            year = int(self.year_entry.get())\n",
    "            month = int(self.month_entry.get())\n",
    "\n",
    "            # Generate the calendar\n",
    "            cal = calendar.month(year, month)\n",
    "\n",
    "            # Enable the text widget, insert the calendar, and disable it again\n",
    "            self.calendar_text.config(state=\"normal\")\n",
    "            self.calendar_text.delete(1.0, tk.END)\n",
    "            self.calendar_text.insert(tk.END, cal)\n",
    "            self.calendar_text.config(state=\"disabled\")\n",
    "        except ValueError:\n",
    "            # Handle invalid input\n",
    "            self.calendar_text.config(state=\"normal\")\n",
    "            self.calendar_text.delete(1.0, tk.END)\n",
    "            self.calendar_text.insert(tk.END, \"Invalid input. Please enter valid year and month.\")\n",
    "            self.calendar_text.config(state=\"disabled\")\n",
    "\n",
    "if __name__ == \"__main__\":\n",
    "    root = tk.Tk()\n",
    "    app = CalendarApp(root)\n",
    "    root.mainloop()"
   ]
  },
  {
   "cell_type": "code",
   "execution_count": null,
   "id": "c007b31b-ebe1-475b-a6d1-933fd1aa42ae",
   "metadata": {},
   "outputs": [],
   "source": []
  },
  {
   "cell_type": "code",
   "execution_count": null,
   "id": "41107391-e13e-4712-829d-05e0b45d6d19",
   "metadata": {},
   "outputs": [],
   "source": []
  },
  {
   "cell_type": "code",
   "execution_count": null,
   "id": "85afdc20-5cf7-46ef-9fe6-db80c464b751",
   "metadata": {},
   "outputs": [],
   "source": []
  }
 ],
 "metadata": {
  "kernelspec": {
   "display_name": "Python [conda env:base] *",
   "language": "python",
   "name": "conda-base-py"
  },
  "language_info": {
   "codemirror_mode": {
    "name": "ipython",
    "version": 3
   },
   "file_extension": ".py",
   "mimetype": "text/x-python",
   "name": "python",
   "nbconvert_exporter": "python",
   "pygments_lexer": "ipython3",
   "version": "3.12.7"
  }
 },
 "nbformat": 4,
 "nbformat_minor": 5
}
